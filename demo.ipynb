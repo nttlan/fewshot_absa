{
  "cells": [
    {
      "cell_type": "markdown",
      "metadata": {
        "id": "60yPrJhEXP_b"
      },
      "source": [
        "# Aspect-Based Sentiment Analysis using Generative LM with Streamlit"
      ]
    },
    {
      "cell_type": "markdown",
      "metadata": {
        "id": "4hAQsf4VXWhH"
      },
      "source": [
        "## Installation"
      ]
    },
    {
      "cell_type": "code",
      "execution_count": null,
      "metadata": {
        "colab": {
          "base_uri": "https://localhost:8080/"
        },
        "id": "zOvcFcoC6kQ-",
        "outputId": "55f44f9f-450f-4f1d-9671-e66b0ded530b"
      },
      "outputs": [
        {
          "name": "stdout",
          "output_type": "stream",
          "text": [
            "Collecting git+https://github.com/huggingface/transformers.git\n",
            "  Cloning https://github.com/huggingface/transformers.git to /tmp/pip-req-build-nosp_mhq\n",
            "  Running command git clone --filter=blob:none --quiet https://github.com/huggingface/transformers.git /tmp/pip-req-build-nosp_mhq\n",
            "  Resolved https://github.com/huggingface/transformers.git to commit 9924df9eb234b979ee3fb3f5463e039b9e9623dd\n",
            "  Installing build dependencies ... \u001b[?25l\u001b[?25hdone\n",
            "  Getting requirements to build wheel ... \u001b[?25l\u001b[?25hdone\n",
            "  Preparing metadata (pyproject.toml) ... \u001b[?25l\u001b[?25hdone\n",
            "Requirement already satisfied: regex in /usr/local/lib/python3.10/dist-packages (2023.6.3)\n",
            "Requirement already satisfied: sentencepiece==0.1.94 in /usr/local/lib/python3.10/dist-packages (0.1.94)\n",
            "Requirement already satisfied: tqdm in /usr/local/lib/python3.10/dist-packages (4.66.1)\n",
            "Requirement already satisfied: streamlit in /usr/local/lib/python3.10/dist-packages (1.29.0)\n",
            "Requirement already satisfied: filelock in /usr/local/lib/python3.10/dist-packages (from transformers==4.37.0.dev0) (3.13.1)\n",
            "Requirement already satisfied: huggingface-hub<1.0,>=0.19.3 in /usr/local/lib/python3.10/dist-packages (from transformers==4.37.0.dev0) (0.19.4)\n",
            "Requirement already satisfied: numpy>=1.17 in /usr/local/lib/python3.10/dist-packages (from transformers==4.37.0.dev0) (1.23.5)\n",
            "Requirement already satisfied: packaging>=20.0 in /usr/local/lib/python3.10/dist-packages (from transformers==4.37.0.dev0) (23.2)\n",
            "Requirement already satisfied: pyyaml>=5.1 in /usr/local/lib/python3.10/dist-packages (from transformers==4.37.0.dev0) (6.0.1)\n",
            "Requirement already satisfied: requests in /usr/local/lib/python3.10/dist-packages (from transformers==4.37.0.dev0) (2.31.0)\n",
            "Requirement already satisfied: tokenizers<0.19,>=0.14 in /usr/local/lib/python3.10/dist-packages (from transformers==4.37.0.dev0) (0.15.0)\n",
            "Requirement already satisfied: safetensors>=0.3.1 in /usr/local/lib/python3.10/dist-packages (from transformers==4.37.0.dev0) (0.4.1)\n",
            "Requirement already satisfied: altair<6,>=4.0 in /usr/local/lib/python3.10/dist-packages (from streamlit) (4.2.2)\n",
            "Requirement already satisfied: blinker<2,>=1.0.0 in /usr/lib/python3/dist-packages (from streamlit) (1.4)\n",
            "Requirement already satisfied: cachetools<6,>=4.0 in /usr/local/lib/python3.10/dist-packages (from streamlit) (5.3.2)\n",
            "Requirement already satisfied: click<9,>=7.0 in /usr/local/lib/python3.10/dist-packages (from streamlit) (8.1.7)\n",
            "Requirement already satisfied: importlib-metadata<7,>=1.4 in /usr/local/lib/python3.10/dist-packages (from streamlit) (6.11.0)\n",
            "Requirement already satisfied: pandas<3,>=1.3.0 in /usr/local/lib/python3.10/dist-packages (from streamlit) (1.5.3)\n",
            "Requirement already satisfied: pillow<11,>=7.1.0 in /usr/local/lib/python3.10/dist-packages (from streamlit) (9.4.0)\n",
            "Requirement already satisfied: protobuf<5,>=3.20 in /usr/local/lib/python3.10/dist-packages (from streamlit) (3.20.3)\n",
            "Requirement already satisfied: pyarrow>=6.0 in /usr/local/lib/python3.10/dist-packages (from streamlit) (10.0.1)\n",
            "Requirement already satisfied: python-dateutil<3,>=2.7.3 in /usr/local/lib/python3.10/dist-packages (from streamlit) (2.8.2)\n",
            "Requirement already satisfied: rich<14,>=10.14.0 in /usr/local/lib/python3.10/dist-packages (from streamlit) (13.7.0)\n",
            "Requirement already satisfied: tenacity<9,>=8.1.0 in /usr/local/lib/python3.10/dist-packages (from streamlit) (8.2.3)\n",
            "Requirement already satisfied: toml<2,>=0.10.1 in /usr/local/lib/python3.10/dist-packages (from streamlit) (0.10.2)\n",
            "Requirement already satisfied: typing-extensions<5,>=4.3.0 in /usr/local/lib/python3.10/dist-packages (from streamlit) (4.5.0)\n",
            "Requirement already satisfied: tzlocal<6,>=1.1 in /usr/local/lib/python3.10/dist-packages (from streamlit) (5.2)\n",
            "Requirement already satisfied: validators<1,>=0.2 in /usr/local/lib/python3.10/dist-packages (from streamlit) (0.22.0)\n",
            "Requirement already satisfied: gitpython!=3.1.19,<4,>=3.0.7 in /usr/local/lib/python3.10/dist-packages (from streamlit) (3.1.40)\n",
            "Requirement already satisfied: pydeck<1,>=0.8.0b4 in /usr/local/lib/python3.10/dist-packages (from streamlit) (0.8.1b0)\n",
            "Requirement already satisfied: tornado<7,>=6.0.3 in /usr/local/lib/python3.10/dist-packages (from streamlit) (6.3.2)\n",
            "Requirement already satisfied: watchdog>=2.1.5 in /usr/local/lib/python3.10/dist-packages (from streamlit) (3.0.0)\n",
            "Requirement already satisfied: entrypoints in /usr/local/lib/python3.10/dist-packages (from altair<6,>=4.0->streamlit) (0.4)\n",
            "Requirement already satisfied: jinja2 in /usr/local/lib/python3.10/dist-packages (from altair<6,>=4.0->streamlit) (3.1.2)\n",
            "Requirement already satisfied: jsonschema>=3.0 in /usr/local/lib/python3.10/dist-packages (from altair<6,>=4.0->streamlit) (4.19.2)\n",
            "Requirement already satisfied: toolz in /usr/local/lib/python3.10/dist-packages (from altair<6,>=4.0->streamlit) (0.12.0)\n",
            "Requirement already satisfied: gitdb<5,>=4.0.1 in /usr/local/lib/python3.10/dist-packages (from gitpython!=3.1.19,<4,>=3.0.7->streamlit) (4.0.11)\n",
            "Requirement already satisfied: fsspec>=2023.5.0 in /usr/local/lib/python3.10/dist-packages (from huggingface-hub<1.0,>=0.19.3->transformers==4.37.0.dev0) (2023.6.0)\n",
            "Requirement already satisfied: zipp>=0.5 in /usr/local/lib/python3.10/dist-packages (from importlib-metadata<7,>=1.4->streamlit) (3.17.0)\n",
            "Requirement already satisfied: pytz>=2020.1 in /usr/local/lib/python3.10/dist-packages (from pandas<3,>=1.3.0->streamlit) (2023.3.post1)\n",
            "Requirement already satisfied: six>=1.5 in /usr/local/lib/python3.10/dist-packages (from python-dateutil<3,>=2.7.3->streamlit) (1.16.0)\n",
            "Requirement already satisfied: charset-normalizer<4,>=2 in /usr/local/lib/python3.10/dist-packages (from requests->transformers==4.37.0.dev0) (3.3.2)\n",
            "Requirement already satisfied: idna<4,>=2.5 in /usr/local/lib/python3.10/dist-packages (from requests->transformers==4.37.0.dev0) (3.6)\n",
            "Requirement already satisfied: urllib3<3,>=1.21.1 in /usr/local/lib/python3.10/dist-packages (from requests->transformers==4.37.0.dev0) (2.0.7)\n",
            "Requirement already satisfied: certifi>=2017.4.17 in /usr/local/lib/python3.10/dist-packages (from requests->transformers==4.37.0.dev0) (2023.11.17)\n",
            "Requirement already satisfied: markdown-it-py>=2.2.0 in /usr/local/lib/python3.10/dist-packages (from rich<14,>=10.14.0->streamlit) (3.0.0)\n",
            "Requirement already satisfied: pygments<3.0.0,>=2.13.0 in /usr/local/lib/python3.10/dist-packages (from rich<14,>=10.14.0->streamlit) (2.16.1)\n",
            "Requirement already satisfied: smmap<6,>=3.0.1 in /usr/local/lib/python3.10/dist-packages (from gitdb<5,>=4.0.1->gitpython!=3.1.19,<4,>=3.0.7->streamlit) (5.0.1)\n",
            "Requirement already satisfied: MarkupSafe>=2.0 in /usr/local/lib/python3.10/dist-packages (from jinja2->altair<6,>=4.0->streamlit) (2.1.3)\n",
            "Requirement already satisfied: attrs>=22.2.0 in /usr/local/lib/python3.10/dist-packages (from jsonschema>=3.0->altair<6,>=4.0->streamlit) (23.1.0)\n",
            "Requirement already satisfied: jsonschema-specifications>=2023.03.6 in /usr/local/lib/python3.10/dist-packages (from jsonschema>=3.0->altair<6,>=4.0->streamlit) (2023.11.2)\n",
            "Requirement already satisfied: referencing>=0.28.4 in /usr/local/lib/python3.10/dist-packages (from jsonschema>=3.0->altair<6,>=4.0->streamlit) (0.32.0)\n",
            "Requirement already satisfied: rpds-py>=0.7.1 in /usr/local/lib/python3.10/dist-packages (from jsonschema>=3.0->altair<6,>=4.0->streamlit) (0.13.2)\n",
            "Requirement already satisfied: mdurl~=0.1 in /usr/local/lib/python3.10/dist-packages (from markdown-it-py>=2.2.0->rich<14,>=10.14.0->streamlit) (0.1.2)\n"
          ]
        }
      ],
      "source": [
        "!pip install regex sentencepiece==0.1.94 git+https://github.com/huggingface/transformers.git streamlit"
      ]
    },
    {
      "cell_type": "code",
      "execution_count": null,
      "metadata": {
        "id": "GfS4grlC-KzI"
      },
      "outputs": [],
      "source": [
        "from transformers import AutoModel, AutoTokenizer, GPT2LMHeadModel\n",
        "import os\n",
        "import random\n",
        "import numpy as np\n",
        "import torch\n",
        "\n",
        "import transformers\n",
        "import logging\n",
        "import re"
      ]
    },
    {
      "cell_type": "code",
      "execution_count": null,
      "metadata": {
        "id": "g7EReB6N-NP_"
      },
      "outputs": [],
      "source": [
        "def set_global_logging_level(level=logging.ERROR, prefices=[\"\"]):\n",
        "    \"\"\"\n",
        "    Override logging levels of different modules based on their name as a prefix.\n",
        "    It needs to be invoked after the modules have been loaded so that their loggers have been initialized.\n",
        "\n",
        "    Args:\n",
        "        - level: desired level. e.g. logging.INFO. Optional. Default is logging.ERROR\n",
        "        - prefices: list of one or more str prefices to match (e.g. [\"transformers\", \"torch\"]). Optional.\n",
        "          Default is `[\"\"]` to match all active loggers.\n",
        "          The match is a case-sensitive `module_name.startswith(prefix)`\n",
        "    \"\"\"\n",
        "    prefix_re = re.compile(fr'^(?:{ \"|\".join(prefices) })')\n",
        "    for name in logging.root.manager.loggerDict:\n",
        "        if re.match(prefix_re, name):\n",
        "            logging.getLogger(name).setLevel(level)\n",
        "\n",
        "set_global_logging_level(logging.ERROR, [\"transformers\", \"nlp\", \"tensorflow\", \"tensorboard\", \"wandb\"])"
      ]
    },
    {
      "cell_type": "code",
      "execution_count": null,
      "metadata": {
        "colab": {
          "base_uri": "https://localhost:8080/"
        },
        "id": "8sPoRPwj-RdB",
        "outputId": "b39e22f8-1c2f-416c-e9df-5fce3da73e1a"
      },
      "outputs": [
        {
          "name": "stdout",
          "output_type": "stream",
          "text": [
            "Drive already mounted at /content/drive; to attempt to forcibly remount, call drive.mount(\"/content/drive\", force_remount=True).\n"
          ]
        }
      ],
      "source": [
        "from google.colab import drive\n",
        "drive.mount('/content/drive')"
      ]
    },
    {
      "cell_type": "markdown",
      "metadata": {
        "id": "U881_JT-XatI"
      },
      "source": [
        "## Create a streamlit app"
      ]
    },
    {
      "cell_type": "code",
      "execution_count": null,
      "metadata": {
        "colab": {
          "base_uri": "https://localhost:8080/"
        },
        "id": "sabnbMSDHpAG",
        "outputId": "7156696c-f479-4cb8-d60b-f32f4745b3e1"
      },
      "outputs": [
        {
          "name": "stdout",
          "output_type": "stream",
          "text": [
            "Overwriting app.py\n"
          ]
        }
      ],
      "source": [
        "%%writefile app.py\n",
        "from transformers import AutoModel, AutoTokenizer, GPT2LMHeadModel\n",
        "import os\n",
        "import random\n",
        "import numpy as np\n",
        "import torch\n",
        "\n",
        "import transformers\n",
        "import logging\n",
        "import re\n",
        "import streamlit as st\n",
        "\n",
        "st.title('Aspect-Based Sentiment Analysis using Generative LM')\n",
        "\n",
        "st.subheader('Input', divider='gray')\n",
        "# Input\n",
        "subtask = st.selectbox(\n",
        "'Subtask',\n",
        "('aspect_term', 'aspect_category', 'single_term_polarity', 'single_category_polarity', 'aspect_term_aspect_category'))\n",
        "\n",
        "input = st.text_area('Review Sentence', 'it was pleasantly uncrowded, the service was delightful, the garden adorable, the food (from appetizers to entrees) was delectable.')\n",
        "submit = st.button(\"Submit\", type=\"primary\")\n",
        "\n",
        "# Load model\n",
        "GPU = 0\n",
        "ckpt_dir = '/content/drive/MyDrive/NLP_Project/checkpoint'\n",
        "\n",
        "if subtask == 'single_term_polarity':\n",
        "  ckpt_path = 'single_term_polarity/semeval16_restaurants_sb1_aspect_term_single_train/gpt2/gpt2_block128_batch8_lr5e-5_warm0_epochs20_log1000_seed42/checkpoint-4000'\n",
        "elif subtask == 'single_category_polarity':\n",
        "  ckpt_path = 'single_category_polarity/semeval16_restaurants_sb1_aspect_category_single_train/gpt2/gpt2_block128_batch8_lr5e-5_warm0_epochs20_log1000_seed42/checkpoint-5000'\n",
        "elif subtask == 'aspect_term':\n",
        "  ckpt_path = 'aspect_term/semeval16_restaurants_sb1_aspect_term_train/gpt2/gpt2_block128_batch8_lr5e-5_warm0_epochs20_log1000_seed42/checkpoint-3000'\n",
        "elif subtask == 'aspect_category':\n",
        "  ckpt_path = 'aspect_category/semeval16_restaurants_sb1_aspect_category_train/gpt2/gpt2_block128_batch8_lr5e-5_warm0_epochs20_log1000_seed42/checkpoint-4000'\n",
        "else:\n",
        "  ckpt_path = 'aspect_term_aspect_category/semeval16_restaurants_sb1_aspect_term_aspect_category_train/gpt2/gpt2_block128_batch8_lr5e-5_warm0_epochs20_log1000_seed42/checkpoint-4000'\n",
        "\n",
        "model_path = os.path.join(ckpt_dir, ckpt_path)\n",
        "model= GPT2LMHeadModel.from_pretrained(model_path)\n",
        "tokenizer = AutoTokenizer.from_pretrained(model_path)\n",
        "\n",
        "\n",
        "if torch.cuda.is_available():\n",
        "    device = torch.device(\"cuda\", index=GPU)\n",
        "else:\n",
        "    device = torch.device(\"cpu\")\n",
        "model.to(device)\n",
        "model.device\n",
        "\n",
        "if submit:\n",
        "    # define sequence task tokens\n",
        "    target_token = '<|term|>'\n",
        "    target_end_token = '<|endoftext|>'\n",
        "    s_token = '<|review|>'\n",
        "    s_end_token = '<|endofreview|>'\n",
        "\n",
        "    sequence = f\"{target_end_token} {s_token} {input} {s_end_token}\"\n",
        "\n",
        "\n",
        "    # generate output\n",
        "    max_length = 128\n",
        "    out = tokenizer.decode(model.generate(tokenizer.encode(sequence, return_tensors='pt').to(device),\n",
        "                                          max_length=max_length,\n",
        "                                          do_sample=True)[0])\n",
        "\n",
        "    # output\n",
        "    st.subheader('Output', divider='gray')\n",
        "\n",
        "    if subtask == 'single_term_polarity':\n",
        "        term = out.split(\"<|term|>\")[-1].split(\"<|endofterm|>\")[0]\n",
        "        st.text_input('Term-polarity: ', term)\n",
        "    elif subtask == 'single_category_polarity':\n",
        "        category = out.split(\"<|category|>\")[-1].split(\"<|endofcategory|>\")[0]\n",
        "        st.text_input('Category-polarity: ', category)\n",
        "    elif subtask == 'aspect_term':\n",
        "        term = out.split(\"<|term|>\")[-1].split(\"<|endofterm|>\")[0]\n",
        "        st.text_input('Term-polarity: ', term)\n",
        "    elif subtask == 'aspect_category':\n",
        "        category = out.split(\"<|category|>\")[-1].split(\"<|endofcategory|>\")[0]\n",
        "        st.text_input('Category-polarity: ', category)\n",
        "    else:\n",
        "        term = out.split(\"<|term|>\")[-1].split(\"<|endofterm|>\")[0]\n",
        "        category = out.split(\"<|category|>\")[-1].split(\"<|endofcategory|>\")[0]\n",
        "        st.text_input('Term-polarity: ', term)\n",
        "        st.text_input('Category-polarity: ', category)\n"
      ]
    },
    {
      "cell_type": "markdown",
      "metadata": {
        "id": "3hv7FVGLX1bM"
      },
      "source": [
        "## Install localtunnel"
      ]
    },
    {
      "cell_type": "code",
      "execution_count": null,
      "metadata": {
        "colab": {
          "base_uri": "https://localhost:8080/"
        },
        "id": "cihO6Cb4JTqv",
        "outputId": "143984fe-11c3-4e31-c3e6-910bef65b712"
      },
      "outputs": [
        {
          "name": "stdout",
          "output_type": "stream",
          "text": [
            "\u001b[K\u001b[?25h\u001b[37;40mnpm\u001b[0m \u001b[0m\u001b[30;43mWARN\u001b[0m \u001b[0m\u001b[35msaveError\u001b[0m ENOENT: no such file or directory, open '/content/package.json'\n",
            "\u001b[0m\u001b[37;40mnpm\u001b[0m \u001b[0m\u001b[30;43mWARN\u001b[0m \u001b[0m\u001b[35menoent\u001b[0m ENOENT: no such file or directory, open '/content/package.json'\n",
            "\u001b[0m\u001b[37;40mnpm\u001b[0m \u001b[0m\u001b[30;43mWARN\u001b[0m\u001b[35m\u001b[0m content No description\n",
            "\u001b[0m\u001b[37;40mnpm\u001b[0m \u001b[0m\u001b[30;43mWARN\u001b[0m\u001b[35m\u001b[0m content No repository field.\n",
            "\u001b[0m\u001b[37;40mnpm\u001b[0m \u001b[0m\u001b[30;43mWARN\u001b[0m\u001b[35m\u001b[0m content No README data\n",
            "\u001b[0m\u001b[37;40mnpm\u001b[0m \u001b[0m\u001b[30;43mWARN\u001b[0m\u001b[35m\u001b[0m content No license field.\n",
            "\u001b[0m\n",
            "\u001b[K\u001b[?25h+ localtunnel@2.0.2\n",
            "updated 1 package and audited 36 packages in 0.718s\n",
            "\n",
            "3 packages are looking for funding\n",
            "  run `npm fund` for details\n",
            "\n",
            "found 2 \u001b[93mmoderate\u001b[0m severity vulnerabilities\n",
            "  run `npm audit fix` to fix them, or `npm audit` for details\n"
          ]
        }
      ],
      "source": [
        "!npm install localtunnel"
      ]
    },
    {
      "cell_type": "markdown",
      "metadata": {
        "id": "7U_rUDg6YAB1"
      },
      "source": [
        "## Run streamlit in background"
      ]
    },
    {
      "cell_type": "code",
      "execution_count": null,
      "metadata": {
        "id": "uP31Y26iJVW9"
      },
      "outputs": [],
      "source": [
        "!streamlit run /content/app.py &>/content/logs.txt &"
      ]
    },
    {
      "cell_type": "markdown",
      "metadata": {
        "id": "h_KW9juhOCuH"
      },
      "source": [
        "Click in the `url` showed.\n",
        "\n",
        "A `log.txt`file will be created.\n",
        "\n",
        "Get the **External URL**, exclude port and paste to the **Endpoint IP** input box.\n"
      ]
    },
    {
      "cell_type": "code",
      "execution_count": null,
      "metadata": {
        "colab": {
          "background_save": true,
          "base_uri": "https://localhost:8080/"
        },
        "id": "bgOmXzWSJXFP",
        "outputId": "d68e598b-ba5b-4857-d66b-fc495725c3df"
      },
      "outputs": [
        {
          "name": "stdout",
          "output_type": "stream",
          "text": [
            "\u001b[K\u001b[?25hnpx: installed 22 in 3.556s\n",
            "your url is: https://eleven-toys-hammer.loca.lt\n",
            "/root/.npm/_npx/25403/lib/node_modules/localtunnel/bin/lt.js:81\n",
            "    throw err;\n",
            "    ^\n",
            "\n",
            "Error: connection refused: localtunnel.me:37837 (check your firewall settings)\n",
            "    at Socket.<anonymous> (/root/.npm/_npx/25403/lib/node_modules/\u001b[4mlocaltunnel\u001b[24m/lib/TunnelCluster.js:52:11)\n",
            "\u001b[90m    at Socket.emit (events.js:315:20)\u001b[39m\n",
            "\u001b[90m    at emitErrorNT (internal/streams/destroy.js:106:8)\u001b[39m\n",
            "\u001b[90m    at emitErrorCloseNT (internal/streams/destroy.js:74:3)\u001b[39m\n",
            "\u001b[90m    at processTicksAndRejections (internal/process/task_queues.js:80:21)\u001b[39m\n"
          ]
        }
      ],
      "source": [
        "!npx localtunnel --port 8501"
      ]
    }
  ],
  "metadata": {
    "colab": {
      "collapsed_sections": [
        "4hAQsf4VXWhH",
        "U881_JT-XatI",
        "3hv7FVGLX1bM",
        "7U_rUDg6YAB1"
      ],
      "provenance": []
    },
    "kernelspec": {
      "display_name": "Python 3",
      "name": "python3"
    },
    "language_info": {
      "name": "python",
      "version": "3.11.2"
    }
  },
  "nbformat": 4,
  "nbformat_minor": 0
}
